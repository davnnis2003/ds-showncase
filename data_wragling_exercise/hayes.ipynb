{
 "cells": [
  {
   "cell_type": "code",
   "execution_count": 4,
   "metadata": {},
   "outputs": [],
   "source": [
    "import pandas as pd\n",
    "# pandas.__version__\n",
    "\n"
   ]
  },
  {
   "cell_type": "code",
   "execution_count": 13,
   "metadata": {},
   "outputs": [
    {
     "name": "stdout",
     "output_type": "stream",
     "text": [
      "<class 'pandas.core.frame.DataFrame'>\n",
      "RangeIndex: 545 entries, 0 to 544\n",
      "Data columns (total 31 columns):\n",
      " #   Column                                   Non-Null Count  Dtype  \n",
      "---  ------                                   --------------  -----  \n",
      " 0   Ad ID Request/Update Date                545 non-null    object \n",
      " 1   App Latest Version                       211 non-null    object \n",
      " 2   App Live Date                            215 non-null    object \n",
      " 3   Studio Name                              545 non-null    object \n",
      " 4   Project Code                             545 non-null    object \n",
      " 5   App Name                                 545 non-null    object \n",
      " 6   Platform                                 545 non-null    object \n",
      " 7   Ad Network                               545 non-null    object \n",
      " 8   Device                                   545 non-null    object \n",
      " 9   Ad Unit Type                             545 non-null    object \n",
      " 10  Ad Size                                  545 non-null    object \n",
      " 11  Ad Unit ID                               545 non-null    object \n",
      " 12  Secondary Ad Unit ID                     89 non-null     object \n",
      " 13  Store/Bundle ID                          545 non-null    object \n",
      " 14  App Orientation                          545 non-null    object \n",
      " 15  Week 0 Impressions                       81 non-null     object \n",
      " 16  Week 1 Impressions                       81 non-null     object \n",
      " 17  Week 0 eCPM                              81 non-null     object \n",
      " 18  Week 1 eCPM                              81 non-null     object \n",
      " 19  Week 0 Revenue                           81 non-null     object \n",
      " 20  Week 1 Revenue                           81 non-null     object \n",
      " 21  Week 0 Sessions                          0 non-null      float64\n",
      " 22  Week 1 Sessions                          0 non-null      float64\n",
      " 23  Week 0 Impressions per Sessions          0 non-null      float64\n",
      " 24  Week 1 Impressions per Sessions          0 non-null      float64\n",
      " 25  Week 1 Revenue per Sessions              0 non-null      float64\n",
      " 26  Comment                                  48 non-null     object \n",
      " 27  Ad Network Dashboard Traffic Check       203 non-null    object \n",
      " 28  Ad unit ID copied correctly to Mediator  0 non-null      float64\n",
      " 29  Mediator Waterfall Traffic Check         0 non-null      float64\n",
      " 30  Charles Proxy Check                      0 non-null      float64\n",
      "dtypes: float64(8), object(23)\n",
      "memory usage: 132.1+ KB\n"
     ]
    }
   ],
   "source": [
    "# Read the first csv file\n",
    "path = 'data/hayes_cd_adunits_2017.csv'\n",
    "\n",
    "df = pd.read_csv(path)\n",
    "print(\"First 5 rows: /c\")\n",
    "df.head())\n",
    "\n",
    "df.info()\n",
    "# df.head()"
   ]
  },
  {
   "cell_type": "code",
   "execution_count": null,
   "metadata": {},
   "outputs": [],
   "source": []
  }
 ],
 "metadata": {
  "kernelspec": {
   "display_name": "Python 3",
   "language": "python",
   "name": "python3"
  },
  "language_info": {
   "codemirror_mode": {
    "name": "ipython",
    "version": 3
   },
   "file_extension": ".py",
   "mimetype": "text/x-python",
   "name": "python",
   "nbconvert_exporter": "python",
   "pygments_lexer": "ipython3",
   "version": "3.8.5"
  }
 },
 "nbformat": 4,
 "nbformat_minor": 4
}
